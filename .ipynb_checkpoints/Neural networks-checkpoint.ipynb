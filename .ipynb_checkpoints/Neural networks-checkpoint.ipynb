{
 "cells": [
  {
   "cell_type": "code",
   "execution_count": 4,
   "metadata": {
    "ExecuteTime": {
     "end_time": "2019-06-23T17:50:52.388850Z",
     "start_time": "2019-06-23T17:50:52.380850Z"
    }
   },
   "outputs": [],
   "source": [
    "from sklearn import datasets\n",
    "from sklearn.model_selection import train_test_split"
   ]
  },
  {
   "cell_type": "code",
   "execution_count": 5,
   "metadata": {
    "ExecuteTime": {
     "end_time": "2019-06-23T17:50:54.950933Z",
     "start_time": "2019-06-23T17:50:54.942425Z"
    }
   },
   "outputs": [],
   "source": [
    "data=datasets.load_iris()"
   ]
  },
  {
   "cell_type": "code",
   "execution_count": 7,
   "metadata": {
    "ExecuteTime": {
     "end_time": "2019-06-23T17:51:09.894856Z",
     "start_time": "2019-06-23T17:51:09.813191Z"
    }
   },
   "outputs": [],
   "source": [
    "xtrain,xtest,ytrain,ytest=train_test_split(data.data,data.target)"
   ]
  },
  {
   "cell_type": "code",
   "execution_count": 8,
   "metadata": {
    "ExecuteTime": {
     "end_time": "2019-06-23T17:52:15.606369Z",
     "start_time": "2019-06-23T17:52:15.181502Z"
    }
   },
   "outputs": [],
   "source": [
    "from sklearn.neural_network import MLPClassifier"
   ]
  },
  {
   "cell_type": "code",
   "execution_count": 12,
   "metadata": {
    "ExecuteTime": {
     "end_time": "2019-06-23T18:01:25.424471Z",
     "start_time": "2019-06-23T18:01:24.878187Z"
    }
   },
   "outputs": [
    {
     "data": {
      "text/plain": [
       "MLPClassifier(activation='relu', alpha=0.0001, batch_size='auto', beta_1=0.9,\n",
       "       beta_2=0.999, early_stopping=False, epsilon=1e-08,\n",
       "       hidden_layer_sizes=(20,), learning_rate='constant',\n",
       "       learning_rate_init=0.001, max_iter=3000, momentum=0.9,\n",
       "       nesterovs_momentum=True, power_t=0.5, random_state=None,\n",
       "       shuffle=True, solver='adam', tol=0.0001, validation_fraction=0.1,\n",
       "       verbose=False, warm_start=False)"
      ]
     },
     "execution_count": 12,
     "metadata": {},
     "output_type": "execute_result"
    }
   ],
   "source": [
    "clf=MLPClassifier(hidden_layer_sizes=(20,),max_iter=3000)\n",
    "clf.fit(xtrain,ytrain)"
   ]
  },
  {
   "cell_type": "code",
   "execution_count": 13,
   "metadata": {
    "ExecuteTime": {
     "end_time": "2019-06-23T18:01:30.816972Z",
     "start_time": "2019-06-23T18:01:30.804974Z"
    }
   },
   "outputs": [
    {
     "data": {
      "text/plain": [
       "0.9736842105263158"
      ]
     },
     "execution_count": 13,
     "metadata": {},
     "output_type": "execute_result"
    }
   ],
   "source": [
    "clf.score(xtest,ytest)"
   ]
  },
  {
   "cell_type": "code",
   "execution_count": 14,
   "metadata": {
    "ExecuteTime": {
     "end_time": "2019-06-23T18:01:38.689794Z",
     "start_time": "2019-06-23T18:01:38.677794Z"
    }
   },
   "outputs": [
    {
     "data": {
      "text/plain": [
       "[array([[-2.19508669e-01,  4.03175981e-01, -3.72000399e-03,\n",
       "          4.44276517e-01,  3.10696538e-01,  5.50008209e-01,\n",
       "         -2.52513821e-03,  3.35263468e-01,  3.76534678e-06,\n",
       "          3.27461733e-01, -3.34066431e-01,  2.62998843e-01,\n",
       "          2.95187350e-01, -1.76390246e-02, -1.43692563e-01,\n",
       "         -1.05643409e-05, -2.64336686e-09,  1.26477612e-01,\n",
       "          1.20555139e-03, -2.02592889e-01],\n",
       "        [ 3.03580190e-01, -3.47328454e-01,  2.47570401e-03,\n",
       "         -1.02470027e-01,  6.61729527e-01, -4.88627683e-01,\n",
       "          5.52095309e-06, -5.35520814e-01, -4.09783655e-02,\n",
       "          3.00127321e-01, -5.72884036e-01,  7.64075676e-01,\n",
       "         -3.24725511e-01, -1.16302067e-19, -2.14417638e-01,\n",
       "          2.26186791e-17,  1.15516539e-07,  8.38592046e-01,\n",
       "         -3.48580022e-02, -3.76970545e-01],\n",
       "        [-2.97428040e-01, -2.63330465e-01, -3.58773420e-03,\n",
       "         -1.16678188e-01, -1.40808188e-01,  2.41645172e-01,\n",
       "         -3.70471354e-16,  3.62027068e-01,  1.08741312e-09,\n",
       "         -4.31857571e-01,  7.01701144e-01, -3.77711036e-01,\n",
       "          1.06932428e-02,  3.88463887e-04,  6.74845878e-01,\n",
       "          1.58234000e-06, -1.13305580e-06, -3.30483869e-01,\n",
       "         -9.13898275e-03,  5.54995518e-01],\n",
       "        [-4.39182083e-01,  6.57048918e-01,  8.89808392e-05,\n",
       "         -5.75018821e-01, -3.22042292e-01, -4.71251401e-01,\n",
       "         -6.03871768e-06,  6.61100821e-01, -7.68522649e-03,\n",
       "         -7.84662628e-01,  8.79951382e-01, -5.05219451e-01,\n",
       "          5.43935569e-01, -8.96897630e-05,  6.29519203e-01,\n",
       "          2.74597973e-19,  6.10625828e-16, -7.54394702e-01,\n",
       "         -1.22163960e-19,  5.93146035e-01]]),\n",
       " array([[-3.53582692e-01,  1.64008482e-01, -1.45948941e-01],\n",
       "        [-3.92297942e-01, -3.93226418e-01,  2.04901144e-01],\n",
       "        [ 1.45375897e-04,  1.37838142e-05, -2.11062292e-04],\n",
       "        [ 4.46089939e-01,  5.72192487e-01, -3.42520385e-01],\n",
       "        [ 4.90750133e-01,  2.14014323e-01, -4.05800290e-01],\n",
       "        [-2.81954382e-01,  6.59559217e-01, -3.75969466e-01],\n",
       "        [ 1.33546348e-08,  1.10315474e-03,  6.29291549e-17],\n",
       "        [-3.56173062e-01, -2.95780544e-01,  6.11056969e-01],\n",
       "        [-1.65297301e-03, -1.11945635e-02, -4.73588123e-20],\n",
       "        [ 4.64293455e-01, -8.71427201e-01, -2.20410276e-01],\n",
       "        [-5.30405194e-01, -1.18699741e+00,  1.05750873e+00],\n",
       "        [ 4.32788656e-01, -3.56550216e-01, -2.18544798e-01],\n",
       "        [-8.97677542e-01,  4.52169291e-01, -3.71553508e-01],\n",
       "        [ 1.50929568e-20,  2.11830769e-02,  1.68571279e-02],\n",
       "        [-5.50711275e-01,  1.06653148e-03,  9.43331584e-01],\n",
       "        [-2.56171391e-03, -4.22276551e-02,  1.05441125e-04],\n",
       "        [ 3.05856107e-09, -3.13757595e-02,  1.38002270e-07],\n",
       "        [ 7.60835867e-01,  2.74889632e-02, -9.61944259e-01],\n",
       "        [ 3.79367385e-06,  7.91007422e-13, -1.02772724e-04],\n",
       "        [-6.88488900e-02, -6.51024629e-01,  8.47299959e-01]])]"
      ]
     },
     "execution_count": 14,
     "metadata": {},
     "output_type": "execute_result"
    }
   ],
   "source": [
    "clf.coefs_"
   ]
  },
  {
   "cell_type": "code",
   "execution_count": 16,
   "metadata": {
    "ExecuteTime": {
     "end_time": "2019-06-23T18:01:51.973773Z",
     "start_time": "2019-06-23T18:01:51.965772Z"
    }
   },
   "outputs": [
    {
     "data": {
      "text/plain": [
       "(4, 20)"
      ]
     },
     "execution_count": 16,
     "metadata": {},
     "output_type": "execute_result"
    }
   ],
   "source": [
    "clf.coefs_[0].shape"
   ]
  },
  {
   "cell_type": "code",
   "execution_count": 17,
   "metadata": {
    "ExecuteTime": {
     "end_time": "2019-06-23T18:01:59.361109Z",
     "start_time": "2019-06-23T18:01:59.353130Z"
    }
   },
   "outputs": [
    {
     "data": {
      "text/plain": [
       "[array([ 0.22671628, -0.1481731 , -0.20382593,  0.24825531,  0.38042415,\n",
       "         0.78587291,  0.00462297, -0.74684443, -0.23417041,  0.073592  ,\n",
       "        -0.39622577, -0.32458205,  0.6432747 , -0.42926438,  0.25314797,\n",
       "        -0.34021417, -0.40606936,  0.23550467, -0.13356327, -0.73376478]),\n",
       " array([-0.01149196, -0.12587084, -0.38079196])]"
      ]
     },
     "execution_count": 17,
     "metadata": {},
     "output_type": "execute_result"
    }
   ],
   "source": [
    "clf.intercepts_"
   ]
  },
  {
   "cell_type": "code",
   "execution_count": 18,
   "metadata": {
    "ExecuteTime": {
     "end_time": "2019-06-23T18:02:10.778862Z",
     "start_time": "2019-06-23T18:02:10.770861Z"
    }
   },
   "outputs": [
    {
     "data": {
      "text/plain": [
       "(20,)"
      ]
     },
     "execution_count": 18,
     "metadata": {},
     "output_type": "execute_result"
    }
   ],
   "source": [
    "clf.intercepts_[0].shape"
   ]
  },
  {
   "cell_type": "code",
   "execution_count": null,
   "metadata": {},
   "outputs": [],
   "source": []
  }
 ],
 "metadata": {
  "hide_input": false,
  "kernelspec": {
   "display_name": "Python 3",
   "language": "python",
   "name": "python3"
  },
  "language_info": {
   "codemirror_mode": {
    "name": "ipython",
    "version": 3
   },
   "file_extension": ".py",
   "mimetype": "text/x-python",
   "name": "python",
   "nbconvert_exporter": "python",
   "pygments_lexer": "ipython3",
   "version": "3.6.5"
  },
  "toc": {
   "base_numbering": 1,
   "nav_menu": {},
   "number_sections": true,
   "sideBar": true,
   "skip_h1_title": false,
   "title_cell": "Table of Contents",
   "title_sidebar": "Contents",
   "toc_cell": false,
   "toc_position": {},
   "toc_section_display": true,
   "toc_window_display": false
  }
 },
 "nbformat": 4,
 "nbformat_minor": 2
}
