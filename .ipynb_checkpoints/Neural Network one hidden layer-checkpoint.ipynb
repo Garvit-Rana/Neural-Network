{
 "cells": [
  {
   "cell_type": "code",
   "execution_count": 21,
   "metadata": {
    "ExecuteTime": {
     "end_time": "2019-06-24T09:59:05.924638Z",
     "start_time": "2019-06-24T09:59:05.916639Z"
    }
   },
   "outputs": [],
   "source": [
    "import numpy as np"
   ]
  },
  {
   "cell_type": "code",
   "execution_count": 22,
   "metadata": {
    "ExecuteTime": {
     "end_time": "2019-06-24T09:59:06.084708Z",
     "start_time": "2019-06-24T09:59:05.928637Z"
    }
   },
   "outputs": [],
   "source": [
    "x=np.array([[0,0],[0,1],[1,0],[1,1]])\n",
    "y=np.array([[0,1,1,0]]).T"
   ]
  },
  {
   "cell_type": "code",
   "execution_count": 23,
   "metadata": {
    "ExecuteTime": {
     "end_time": "2019-06-24T09:59:06.172693Z",
     "start_time": "2019-06-24T09:59:06.084708Z"
    }
   },
   "outputs": [],
   "source": [
    "def sig(z):\n",
    "    return 1/(1+np.exp(-z))"
   ]
  },
  {
   "cell_type": "code",
   "execution_count": 24,
   "metadata": {
    "ExecuteTime": {
     "end_time": "2019-06-24T09:59:06.292665Z",
     "start_time": "2019-06-24T09:59:06.176656Z"
    }
   },
   "outputs": [],
   "source": [
    "def deriv(z):\n",
    "    return sig(z)*(1-sig(z))"
   ]
  },
  {
   "cell_type": "code",
   "execution_count": 25,
   "metadata": {
    "ExecuteTime": {
     "end_time": "2019-06-24T09:59:06.400733Z",
     "start_time": "2019-06-24T09:59:06.320667Z"
    }
   },
   "outputs": [],
   "source": [
    "wh=2*np.random.random((2,2))-1\n",
    "bh=2*np.random.random((1,2))-1\n",
    "wo=2*np.random.random((2,1))-1\n",
    "bo=2*np.random.random((1,1))-1"
   ]
  },
  {
   "cell_type": "code",
   "execution_count": 26,
   "metadata": {
    "ExecuteTime": {
     "end_time": "2019-06-24T09:59:06.488677Z",
     "start_time": "2019-06-24T09:59:06.408673Z"
    }
   },
   "outputs": [
    {
     "data": {
      "text/plain": [
       "(4, 1)"
      ]
     },
     "execution_count": 26,
     "metadata": {},
     "output_type": "execute_result"
    }
   ],
   "source": [
    "lr=0.1\n",
    "out=x\n",
    "inputhidden=np.dot(out,wh)+bh\n",
    "outhidden=sig(inputhidden)\n",
    "inputforoutput=np.dot(outhidden,wo)+bo\n",
    "output=sig(inputforoutput)\n",
    "output.shape"
   ]
  },
  {
   "cell_type": "code",
   "execution_count": 28,
   "metadata": {
    "ExecuteTime": {
     "end_time": "2019-06-24T10:00:07.578021Z",
     "start_time": "2019-06-24T10:00:06.784172Z"
    }
   },
   "outputs": [
    {
     "data": {
      "text/plain": [
       "(array([[0.04989184],\n",
       "        [0.93949233],\n",
       "        [0.93948787],\n",
       "        [0.06101926]]), array([[ 3.82306746, -5.69719902],\n",
       "        [ 3.82329302, -5.69850708]]), array([[-5.94055498,  2.0503006 ]]), array([[-7.66988908],\n",
       "        [-7.54489447]]), array([[3.7580152]]))"
      ]
     },
     "execution_count": 28,
     "metadata": {},
     "output_type": "execute_result"
    }
   ],
   "source": [
    "for i in range(10000):\n",
    "    out=x\n",
    "    inputhidden=np.dot(out,wh)+bh\n",
    "    outhidden=sig(inputhidden)\n",
    "    inputforoutput=np.dot(outhidden,wo)+bo\n",
    "    output=sig(inputforoutput)\n",
    "\n",
    "    first_term_output_layer=output-y\n",
    "    sec_term_out_layer=deriv(inputforoutput)\n",
    "    first_two_output=first_term_output_layer*sec_term_out_layer\n",
    "\n",
    "    first_term_hidden=np.dot(first_two_output,wo.T)\n",
    "    second_term_hidden=deriv(inputhidden)\n",
    "    first_two_hidden=first_term_hidden*second_term_hidden\n",
    "    change_output=np.dot(outhidden.T,first_two_output)\n",
    "    change_out_bias=np.sum(first_two_output,axis=0,keepdims=True)\n",
    "\n",
    "    change_hidden=np.dot(out.T,first_two_hidden)\n",
    "    change_hidden_bias=np.sum(first_two_hidden,axis=0,keepdims=True)\n",
    "    wo=wo-lr*change_output\n",
    "    bo=bo-lr*change_out_bias\n",
    "    wh=wh-lr*change_hidden\n",
    "    bh=bh-lr*change_hidden_bias\n",
    "\n",
    "out=x\n",
    "inputhidden=np.dot(out,wh)+bh\n",
    "outhidden=sig(inputhidden)\n",
    "inputforoutput=np.dot(outhidden,wo)+bo\n",
    "output=sig(inputforoutput)\n",
    "output,wh,bh,wo,bo\n"
   ]
  },
  {
   "cell_type": "code",
   "execution_count": null,
   "metadata": {},
   "outputs": [],
   "source": []
  }
 ],
 "metadata": {
  "hide_input": false,
  "kernelspec": {
   "display_name": "Python 3",
   "language": "python",
   "name": "python3"
  },
  "language_info": {
   "codemirror_mode": {
    "name": "ipython",
    "version": 3
   },
   "file_extension": ".py",
   "mimetype": "text/x-python",
   "name": "python",
   "nbconvert_exporter": "python",
   "pygments_lexer": "ipython3",
   "version": "3.6.5"
  },
  "toc": {
   "base_numbering": 1,
   "nav_menu": {},
   "number_sections": true,
   "sideBar": true,
   "skip_h1_title": false,
   "title_cell": "Table of Contents",
   "title_sidebar": "Contents",
   "toc_cell": false,
   "toc_position": {},
   "toc_section_display": true,
   "toc_window_display": false
  }
 },
 "nbformat": 4,
 "nbformat_minor": 2
}
